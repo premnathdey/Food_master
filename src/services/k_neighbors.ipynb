{
 "cells": [
  {
   "cell_type": "code",
   "execution_count": null,
   "metadata": {
    "collapsed": true
   },
   "outputs": [],
   "source": [
    "import numpy as np\n",
    "import pandas as pd\n",
    "from scipy.spatial import distance\n",
    "\n",
    "from sklearn.neighbors import NearestNeighbors\n",
    "\n",
    "from sklearn.externals import joblib"
   ]
  },
  {
   "cell_type": "code",
   "execution_count": null,
   "metadata": {
    "collapsed": true
   },
   "outputs": [],
   "source": [
    "data_file = \"../../data/nutrition_values.csv\"\n",
    "model_file = \"../../data/food-101/models/knn.pkl\""
   ]
  },
  {
   "cell_type": "code",
   "execution_count": null,
   "metadata": {},
   "outputs": [],
   "source": [
    "nutrition_df = pd.read_csv(data_file, header=0)"
   ]
  },
  {
   "cell_type": "code",
   "execution_count": null,
   "metadata": {
    "collapsed": true
   },
   "outputs": [],
   "source": [
    "nutrition_values_df = nutrition_df.drop([\"product_name\", \"sugars_100g\"], axis=1)"
   ]
  },
  {
   "cell_type": "code",
   "execution_count": null,
   "metadata": {},
   "outputs": [],
   "source": [
    "nutrition_values_df.head()"
   ]
  },
  {
   "cell_type": "code",
   "execution_count": null,
   "metadata": {},
   "outputs": [],
   "source": [
    "nutrition_df[nutrition_df['product_name'] == 'hamburger']"
   ]
  },
  {
   "cell_type": "code",
   "execution_count": null,
   "metadata": {
    "collapsed": true
   },
   "outputs": [],
   "source": [
    "NUT_DAILY_VALUES = {\n",
    "    \"calories\": 2000,\n",
    "    \"carbohydrates\": 300,\n",
    "    \"cholesterol\": 0.003,\n",
    "    \"fat\" : 65,\n",
    "    \"fiber\": 25,\n",
    "    \"proteins\": 50\n",
    "}\n",
    "\n",
    "NUT_NAMES_MAP = {\n",
    "    \"calories\" : \"energy_100g\",\n",
    "    \"carbohydrates\": \"carbohydrates_100g\",\n",
    "    \"cholesterol\": \"cholesterol_100g\",\n",
    "    \"fat\" : \"fat_100g\",\n",
    "    \"fiber\": \"fiber_100g\",\n",
    "    \"proteins\": \"proteins_100g\"\n",
    "}"
   ]
  },
  {
   "cell_type": "code",
   "execution_count": null,
   "metadata": {
    "collapsed": true
   },
   "outputs": [],
   "source": [
    "def nutricional_metric(u,v):\n",
    "    return distance.euclidean(u,v) #+ np.sum(np.max(v - u), 0)"
   ]
  },
  {
   "cell_type": "markdown",
   "metadata": {},
   "source": [
    "## Save KNN Model"
   ]
  },
  {
   "cell_type": "code",
   "execution_count": null,
   "metadata": {},
   "outputs": [],
   "source": [
    "# X = np.array([[-1, -1], [-2, -1], [-3, -2], [1, 1], [2, 1], [3, 2]])\n",
    "nbrs = NearestNeighbors(n_neighbors=5,\n",
    "                        algorithm='ball_tree',\n",
    "                        metric='euclidean').fit(nutrition_values_df)\n",
    "\n",
    "joblib.dump(nbrs, model_file) \n"
   ]
  },
  {
   "cell_type": "code",
   "execution_count": null,
   "metadata": {
    "collapsed": true
   },
   "outputs": [],
   "source": [
    "distances, indices = nbrs.kneighbors([[260, 40, 5, 8, 0, 1]], n_neighbors=3)\n",
    "\n",
    "\n",
    "recommended_products = [nutrition_df.loc[i]['product_name'] for i in indices[0]]"
   ]
  },
  {
   "cell_type": "code",
   "execution_count": null,
   "metadata": {},
   "outputs": [],
   "source": [
    "print (recommended_products)"
   ]
  },
  {
   "cell_type": "code",
   "execution_count": null,
   "metadata": {
    "collapsed": true
   },
   "outputs": [],
   "source": []
  }
 ],
 "metadata": {
  "kernelspec": {
   "display_name": "Python 3",
   "language": "python",
   "name": "python3"
  },
  "language_info": {
   "codemirror_mode": {
    "name": "ipython",
    "version": 3
   },
   "file_extension": ".py",
   "mimetype": "text/x-python",
   "name": "python",
   "nbconvert_exporter": "python",
   "pygments_lexer": "ipython3",
   "version": "3.6.3"
  }
 },
 "nbformat": 4,
 "nbformat_minor": 2
}
